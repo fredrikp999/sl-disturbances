{
 "cells": [
  {
   "cell_type": "code",
   "execution_count": 89,
   "metadata": {},
   "outputs": [
    {
     "name": "stdout",
     "output_type": "stream",
     "text": [
      "The autoreload extension is already loaded. To reload it, use:\n",
      "  %reload_ext autoreload\n"
     ]
    }
   ],
   "source": [
    "%load_ext autoreload\n",
    "%autoreload 2\n",
    "%reload_ext autoreload\n",
    "import SLdistif as sl"
   ]
  },
  {
   "cell_type": "code",
   "execution_count": 92,
   "metadata": {},
   "outputs": [
    {
     "name": "stdout",
     "output_type": "stream",
     "text": [
      "200\n",
      "All OK\n",
      "(2019-01-06T09:46:37.88+01:00) Pendeltåg 42:Inställd delsträcka mot Nynäshamn\n",
      "(2019-01-06T09:30:14.857+01:00) Pendeltåg 41:Inställd avgång mot Märsta\n",
      "(2018-12-10T10:38:19.33+01:00) Pendeltåg 43:Pendeltåg på linje 43 är inställda mellan Sundbyberg och Jakobsberg i båda riktningar på söndagsmorgnar\n"
     ]
    }
   ],
   "source": [
    "dist = sl.getPathDisturbances('Älvsjö-Kista')\n",
    "sl.printDistHeaders(dist)"
   ]
  },
  {
   "cell_type": "code",
   "execution_count": 93,
   "metadata": {},
   "outputs": [
    {
     "name": "stdout",
     "output_type": "stream",
     "text": [
      "200\n",
      "All OK\n"
     ]
    },
    {
     "data": {
      "text/plain": [
       "[{'Created': '2019-01-06T09:46:37.88+01:00',\n",
       "  'Details': 'Tåg från Märsta kl  12:47 mot Nynäshamn är inställd mellan Märsta och Stockholm City pga personalbrist. Inställd Märsta kl  12:47.',\n",
       "  'DevCaseGid': 9076001015234561,\n",
       "  'DevMessageVersionNumber': 1,\n",
       "  'FromDateTime': '2019-01-06T09:46:37.85',\n",
       "  'Header': 'Inställd delsträcka mot Nynäshamn',\n",
       "  'MainNews': False,\n",
       "  'Scope': 'Pendeltåg 42',\n",
       "  'ScopeElements': 'Pendeltåg 42',\n",
       "  'SortOrder': 1,\n",
       "  'UpToDateTime': '2019-01-06T14:40:00',\n",
       "  'Updated': '2019-01-06T09:46:37.88+01:00'},\n",
       " {'Created': '2019-01-06T09:30:14.857+01:00',\n",
       "  'Details': 'Tåg från Älvsjö kl  11:39 mot Märsta är inställd pga personalbrist.',\n",
       "  'DevCaseGid': 9076001015234484,\n",
       "  'DevMessageVersionNumber': 1,\n",
       "  'FromDateTime': '2019-01-06T09:30:14.827',\n",
       "  'Header': 'Inställd avgång mot Märsta',\n",
       "  'MainNews': False,\n",
       "  'Scope': 'Pendeltåg 41',\n",
       "  'ScopeElements': 'Pendeltåg 41',\n",
       "  'SortOrder': 1,\n",
       "  'UpToDateTime': '2019-01-06T12:46:00',\n",
       "  'Updated': '2019-01-06T09:30:14.857+01:00'},\n",
       " {'Created': '2018-12-10T10:38:19.33+01:00',\n",
       "  'Details': 'Pendeltåg på linje 43 är inställda mellan Sundbyberg och Jakobsberg på söndagar från klockan 04:30 till klockan 08:20 på grund av banarbeten . Det innebär att restiden blir ungefär 30 minuter längre än vanligt.\\n\\nOBS! Från 9 december justeras även avgångstiderna mellan Jakobsberg och Bålsta med cirka 3 minuter.\\n\\nSå här går ersättningstrafiken:\\nBuss 43 H kör mellan Jakobsberg och Hjulsta (Tenstavägen, Tunnelbanans blå linje 10).\\nBuss 43 S kör Jakobsberg - Barkarby - Hjulsta (Tenstavägen, Tunnelbanans blå linje 10) - Spånga och omvänt\\n\\nTunnelbanans blå linje ersätter mellan Hjulsta respektive Sundbyberg och T-Centralen (Stockholm City) i båda riktningar.\\n\\nUnder året påverkas söndagstrafiken även av större arbeten. Dessa är planerade till:\\n18-22 april (påskhelgen)\\n5-29 juli\\n5-6 oktober\\n1-4 november (höstlovet)\\n',\n",
       "  'DevCaseGid': 9076001014981797,\n",
       "  'DevMessageVersionNumber': 3,\n",
       "  'FromDateTime': '2018-12-10T10:38:19.33',\n",
       "  'Header': 'Pendeltåg på linje 43 är inställda mellan Sundbyberg och Jakobsberg i båda riktningar på söndagsmorgnar',\n",
       "  'MainNews': False,\n",
       "  'Scope': 'Pendeltåg linje 43',\n",
       "  'ScopeElements': 'Pendeltåg 43',\n",
       "  'SortOrder': 1,\n",
       "  'UpToDateTime': '2019-04-14T09:00:00',\n",
       "  'Updated': '2018-12-10T10:38:19.33+01:00'}]"
      ]
     },
     "execution_count": 93,
     "metadata": {},
     "output_type": "execute_result"
    }
   ],
   "source": [
    "sl.getDisturbances(\"train\",\"\")"
   ]
  },
  {
   "cell_type": "code",
   "execution_count": 94,
   "metadata": {},
   "outputs": [
    {
     "name": "stdout",
     "output_type": "stream",
     "text": [
      "200\n",
      "All OK\n",
      "No High prio disturbances on the traveling path\n",
      "Low prio disturbances exists (3)\n",
      "Pendeltåg 42:Inställd delsträcka mot Nynäshamn (2019-01-06T09:46:37.88+01:00) \n",
      "Pendeltåg 41:Inställd avgång mot Märsta (2019-01-06T09:30:14.857+01:00) \n",
      "Pendeltåg 43:Pendeltåg på linje 43 är inställda mellan Sundbyberg och Jakobsberg i båda riktningar på söndagsmorgnar (2018-12-10T10:38:19.33+01:00) \n"
     ]
    },
    {
     "data": {
      "text/plain": [
       "[]"
      ]
     },
     "execution_count": 94,
     "metadata": {},
     "output_type": "execute_result"
    }
   ],
   "source": [
    "sl.getMainPathDisturbances(\"Älvsjö-Kista\")"
   ]
  }
 ],
 "metadata": {
  "kernelspec": {
   "display_name": "Python 3",
   "language": "python",
   "name": "python3"
  },
  "language_info": {
   "codemirror_mode": {
    "name": "ipython",
    "version": 3
   },
   "file_extension": ".py",
   "mimetype": "text/x-python",
   "name": "python",
   "nbconvert_exporter": "python",
   "pygments_lexer": "ipython3",
   "version": "3.6.3"
  }
 },
 "nbformat": 4,
 "nbformat_minor": 2
}
